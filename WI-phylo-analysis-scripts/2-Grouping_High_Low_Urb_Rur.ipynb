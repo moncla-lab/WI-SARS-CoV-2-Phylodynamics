{
 "cells": [
  {
   "cell_type": "markdown",
   "id": "e59d157b",
   "metadata": {},
   "source": [
    "# Group Counties into Urban/Rural, High/Low:\n",
    "### May 17, 2023\n\n"
    "The cut off for \"high\" is selected at 20 for the upper quartile of counties with vaccination rates counts above the median \n",
    "\n",
    "We can look at either counties that had consistently high vaccination rates throughout the pandemic, ie most months they were above the median vaccination rate\n",
    "or \n",
    "we can loook at counties that were consistently lowly vaccinated throughout the pandemic, ie most months they were below the median vaccination rate. Uncomment the \n",
    "\n",
    "I am choosing the former categories for simplicity, but either are valid.\n",
    "The code below allows us to view counties from the \"highly vaccinated\" or \"lowly vaccinated\" lenses.\n",
    "\n",
    "This code takes a csv created after running the vax sorter script which counted the number of times a county had a vaccination rate above the median vaccination rate for all Wisconsin counties. The first block checks the column \"Count_Greater_Than\" for counts above 20 and outputs a column of Counties with counts above 20 and a column with counties less than 20.\n",
    "\n",
    "The second part of the script groups counties by their counts above, below or in the middle of the count range.\n",
    "Then it takes the percentage of months"
   ]
  },
  {
   "cell_type": "code",
   "execution_count": 24,
   "id": "48b8d725",
   "metadata": {},
   "outputs": [],
   "source": [
    "import pandas as pd\n",
    "\n",
    "# Load the county comparison results from the CSV file\n",
    "countsdf = pd.read_csv('/Users/mavoeg/computational_folder/gh_folder/python_output/may_2023/counts.csv')\n"
   ]
  },
  {
   "cell_type": "code",
   "execution_count": 25,
   "id": "f56bccc8",
   "metadata": {},
   "outputs": [],
   "source": [
    "# Group the counties by counts above 20 and below 20\n",
    "highly_vaxed = countsdf[countsdf['Count_Greater_Than'] > 20]['County']\n",
    "lowly_vaxed = countsdf[countsdf['Count_Greater_Than'] < 15]['County']\n",
    "mid_vaxed = countsdf[(countsdf['Count_Greater_Than'] >= 15) & (countsdf['Count_Greater_Than'] <= 20)]['County']\n",
    "\n",
    "\n",
    "\n",
    "# convert the counts to dataframes\n",
    "highly_vaxeddf = pd.DataFrame({\"Counties with counts greater than 20\": highly_vaxed, \"Counties with counts less than 20 and greater than 15\": mid_vaxed, \"Counties with less than 15\": lowly_vaxed})\n",
    "#lowly_vaxeddf = pd.DataFrame({\"Counties with counts lesser than 20\": lowly_vaxed})"
   ]
  },
  {
   "cell_type": "code",
   "execution_count": 26,
   "id": "f7bca138",
   "metadata": {},
   "outputs": [],
   "source": [
    "# Save the highly vaxed counties to a CSV file\n",
    "highly_vaxeddf.to_csv('/Users/mavoeg/computational_folder/gh_folder/high_low_mid_vaxed.csv', index=False)\n",
    "\n",
    "# Save the lowly vaxed counties to a CSV file\n",
    "#lowly_vaxed.to_csv('/Users/mavoeg/computational_folder/gh_folder/lowly_vaxed.csv', index=False)\n"
   ]
  },
  {
   "cell_type": "code",
   "execution_count": 27,
   "id": "b5d93e1b",
   "metadata": {},
   "outputs": [],
   "source": [
    "# Group the counties by counts above and below the median vax value\n",
    "highly_vaxed = countsdf[countsdf['Count_Greater_Than'] > 20]['County']\n",
    "lowly_vaxed = countsdf[countsdf['Count_Greater_Than'] < 15]['County']\n",
    "mid_vaxed = countsdf[(countsdf['Count_Greater_Than'] >= 15) & (countsdf['Count_Greater_Than'] <= 20)]['County']\n"
   ]
  },
  {
   "cell_type": "code",
   "execution_count": 28,
   "id": "9309585f",
   "metadata": {},
   "outputs": [],
   "source": [
    "\n",
    "# Calculate each catergory (high, low, mid vaxed) percentage of months above and below the median vax rate\n",
    "percentage_highly_vaxed = len(highly_vaxed) / len(countsdf) * 100\n",
    "percentage_lowly_vaxed = len(lowly_vaxed) / len(countsdf) * 100\n",
    "percentage_mid_vaxed = len(mid_vaxed) / len(countsdf) * 100\n",
    "\n",
    "# Calculate the percentage out of 27 for the column \"Count_Greater_Than\"\n",
    "countsdf['Percentage_Greater_Than'] = countsdf['Count_Greater_Than'] / 27 * 100\n"
   ]
  },
  {
   "cell_type": "code",
   "execution_count": 29,
   "id": "d12acdaa",
   "metadata": {},
   "outputs": [],
   "source": [
    "# Create a new DataFrame with counties and their vaccination percentages\n",
    "county_percentages = pd.DataFrame({\n",
    "    'County': countsdf['County'],\n",
    "    'Vaccination Percentage': countsdf['Percentage_Greater_Than']\n",
    "})\n",
    "\n",
    "# Assign the 'High', 'Mid_Vaxed', 'Low' labels based on the Count_Greater_Than values\n",
    "countsdf['High_Low'] = countsdf['Count_Greater_Than'].apply(lambda x: 'High' if x > 20 else ('Mid_Vaxed' if (x <= 20 and x > 7) else 'Low'))\n",
    "countsdf['Urb_Rur_High_Low'] = countsdf['Urb_Rur'] + '_' + countsdf['High_Low']\n",
    "urbrur_highlow_df = countsdf.drop([\"Urb_Rur\", \"High_Low\", \"Count_Less_Than\"], axis=1)\n"
   ]
  },
  {
   "cell_type": "code",
   "execution_count": 30,
   "id": "f9f676f9",
   "metadata": {},
   "outputs": [
    {
     "name": "stdout",
     "output_type": "stream",
     "text": [
      "        County  Count_Greater_Than  Percentage_Greater_Than Urb_Rur_High_Low\n",
      "0        Adams                   2                 7.407407        Rural_Low\n",
      "1      Ashland                  26                96.296296       Rural_High\n",
      "2       Barron                   1                 3.703704        Rural_Low\n",
      "3     Bayfield                  27               100.000000       Rural_High\n",
      "4       Brown                   26                96.296296       Urban_High\n",
      "..         ...                 ...                      ...              ...\n",
      "67   Waukesha                   27               100.000000       Urban_High\n",
      "68     Waupaca                   0                 0.000000        Rural_Low\n",
      "69   Waushara                    0                 0.000000        Rural_Low\n",
      "70  Winnebago                   24                88.888889       Urban_High\n",
      "71        Wood                  26                96.296296       Rural_High\n",
      "\n",
      "[72 rows x 4 columns]\n"
     ]
    }
   ],
   "source": [
    "print(urbrur_highlow_df)"
   ]
  },
  {
   "cell_type": "code",
   "execution_count": 31,
   "id": "4d61fa96",
   "metadata": {},
   "outputs": [],
   "source": [
    "urbrur_highlow_df.to_csv('/Users/mavoeg/computational_folder/gh_folder/python_output/may_2023/urbrur_highmidlow.csv', index=False)"
   ]
  },
  {
   "cell_type": "code",
   "execution_count": null,
   "id": "03e8c898",
   "metadata": {},
   "outputs": [],
   "source": []
  }
 ],
 "metadata": {
  "kernelspec": {
   "display_name": "Python 3 (ipykernel)",
   "language": "python",
   "name": "python3"
  },
  "language_info": {
   "codemirror_mode": {
    "name": "ipython",
    "version": 3
   },
   "file_extension": ".py",
   "mimetype": "text/x-python",
   "name": "python",
   "nbconvert_exporter": "python",
   "pygments_lexer": "ipython3",
   "version": "3.10.12"
  }
 },
 "nbformat": 4,
 "nbformat_minor": 5
}
