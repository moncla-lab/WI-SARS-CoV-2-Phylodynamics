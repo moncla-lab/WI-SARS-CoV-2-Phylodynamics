{
 "cells": [
  {
   "cell_type": "markdown",
   "id": "706d2820",
   "metadata": {},
   "source": [
    "# Urban/Rural, High/Low Metadata \n",
    "\n",
    "### July 22, 2023\n",
    "\n",
    "This script takes in a metadata tsv/csv (from GISAID or GB) and updates the metadata to include a new column, \"urban_rural_high_low.\" The new column categorizes each county by matching the county in the \"location\" column to the counties in the lists \"rural_high\", \"rural_low\", \"urban_high\", and \"urban_low.\"\n",
    "\n",
    "You should use this script whenever you want to run a Nextstrain build with tips colored by new categories.\n"
   ]
  },
  {
   "cell_type": "code",
   "execution_count": 92,
   "id": "c7f10999",
   "metadata": {},
   "outputs": [],
   "source": [
    "import pandas as pd\n",
    "\n",
    "# Load the existing CSV file into a DataFrame\n",
    "df = pd.read_csv('/Users/mavoeg/computational_folder/gh_folder/ncov/data/clean_ready_for_nextstrain/clean_wicounties_05_18_2023.tsv', sep= '\\t')\n",
    "\n"
   ]
  },
  {
   "cell_type": "code",
   "execution_count": 93,
   "id": "af85397e",
   "metadata": {},
   "outputs": [],
   "source": [
    "# Assigning counties to Rural High-Low categories\n",
    "rural_high = [\"Ashland\",\n",
    "\"Bayfield\",\n",
    "\"Crawford\",\n",
    "\"Door\",\n",
    "\"Forest\",\n",
    "\"Iron\",\n",
    "\"Lafayette\", \n",
    "\"Manitowoc\",\n",
    "\"Menominee\", \n",
    "\"Oneida\",\n",
    "\"Portage\",\n",
    "\"Price\",\n",
    "\"Richland\",\n",
    "\"Sauk\",\n",
    "\"Trempealeau\", \n",
    "\"Vilas\",\n",
    "\"Washburn\",\n",
    "\"Wood\"]\n",
    "\n",
    "rural_low = [\"Adams\", \"Barron\", \n",
    "\"Buffalo\",\n",
    "\"Burnett\",\n",
    "\"Clark\",\n",
    "\"Dodge\", \n",
    "\"Dunn\",\n",
    "\"Florence\",\n",
    "\"Grant\",\n",
    "\"Green Lake\",\n",
    "\"Jackson\", \"Jackson\",\n",
    "\"Juneau\",\n",
    "\"Langlade\",\n",
    "\"Lincoln\",\n",
    "\"Marinette\",\n",
    "\"Marquette\", \n",
    "\"Monroe\",\n",
    "\"Pepin\",\n",
    "\"Polk\",\n",
    "\"Rusk\",\n",
    "\"Sawyer\",\n",
    "\"Shawano\",\n",
    "\"Taylor\",\n",
    "\"Vernon\",\n",
    "\"Walworth\",\n",
    "\"Waupaca\",\n",
    "\"Waushara\"]\n"
   ]
  },
  {
   "cell_type": "code",
   "execution_count": 94,
   "id": "06c7cf38",
   "metadata": {},
   "outputs": [],
   "source": [
    "# Assigning counties to Urban High-Low Cateogries \n",
    "urban_high = ['Brown',\n",
    "'Columbia',\n",
    "'Dane',\n",
    "'Eau Claire',\n",
    "'Green',\n",
    "'Iowa',\n",
    "'Kenosha',\n",
    "'La Crosse',\n",
    "'Marathon',\n",
    "'Milwaukee',\n",
    "'Outagamie',\n",
    "'Ozaukee',\n",
    "'Racine',\n",
    "'Rock',\n",
    "'Sheboygan',\n",
    "'Waukesha',\n",
    "'Winnebago']\n",
    "\n",
    "urban_low = ['Calumet',\n",
    "'Chippewa',\n",
    "'Douglas',\n",
    "'Fond du Lac',\n",
    "'Kewaunee',\n",
    "'Oconto',\n",
    "'Pierce',\n",
    "'St.Croix']\n",
    "\n",
    "mid_vax = ['Washington', \"Jefferson\"]"
   ]
  },
  {
   "cell_type": "code",
   "execution_count": 99,
   "id": "abe96263",
   "metadata": {},
   "outputs": [],
   "source": [
    "# Define the urban rural, high low variables to add to the metadata column\n",
    "urbhigh_value = 'Urban High'\n",
    "urblow_value = 'Urban Low'\n",
    "rurhigh_value = \"Rural High\"\n",
    "rurlow_value = \"Rural Low\"\n",
    "midvax_value = \"Mid Vax\"\n"
   ]
  },
  {
   "cell_type": "code",
   "execution_count": 100,
   "id": "2f83add9",
   "metadata": {},
   "outputs": [],
   "source": [
    "def urb_rur_high_low(location):\n",
    "    if location in rural_high:\n",
    "        return rurhigh_value\n",
    "    elif location in rural_low:\n",
    "        return rurlow_value\n",
    "    elif location in urban_high:\n",
    "        return urbhigh_value\n",
    "    elif location in urban_low:\n",
    "        return urblow_value\n",
    "    elif location in mid_vax:\n",
    "        return midvax_value\n",
    "    else:\n",
    "        return \"\"  # if no urb_rur_high_low, return empty\n",
    "\n",
    "# apply the function to add a new column with the categories assigned based on the location column\n",
    "df[\"urban_rural_high_low\"] = df[\"location\"].apply(urb_rur_high_low)\n"
   ]
  },
  {
   "cell_type": "code",
   "execution_count": 74,
   "id": "bd80ec8e",
   "metadata": {},
   "outputs": [],
   "source": [
    "# Save the updated df to a new TSV file\n",
    "df.to_csv('/Users/mavoeg/computational_folder/gh_folder/ncov/data/clean_ready_for_nextstrain/updated_file.tsv', index=False)"
   ]
  },
  {
   "cell_type": "code",
   "execution_count": null,
   "id": "2aa5f28f",
   "metadata": {},
   "outputs": [],
   "source": []
  }
 ],
 "metadata": {
  "kernelspec": {
   "display_name": "Python 3 (ipykernel)",
   "language": "python",
   "name": "python3"
  },
  "language_info": {
   "codemirror_mode": {
    "name": "ipython",
    "version": 3
   },
   "file_extension": ".py",
   "mimetype": "text/x-python",
   "name": "python",
   "nbconvert_exporter": "python",
   "pygments_lexer": "ipython3",
   "version": "3.10.12"
  }
 },
 "nbformat": 4,
 "nbformat_minor": 5
}
