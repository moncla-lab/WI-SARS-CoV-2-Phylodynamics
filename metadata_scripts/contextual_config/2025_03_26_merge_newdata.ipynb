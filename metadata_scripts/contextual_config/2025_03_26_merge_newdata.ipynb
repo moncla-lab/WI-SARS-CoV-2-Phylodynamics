{
 "cells": [
  {
   "cell_type": "code",
   "execution_count": 1,
   "id": "1f2eee15-33ae-4d6f-9909-fc8a64c72d27",
   "metadata": {},
   "outputs": [],
   "source": [
    "##merging the previously matched MN metadata with the new data that has vax counts and corrected urban/rural designation\n",
    "##this was easier than having to rematch because the data entries are the same they just have the additional info\n",
    "\n",
    "\n",
    "import pandas as pd"
   ]
  },
  {
   "cell_type": "code",
   "execution_count": 5,
   "id": "73a45ff1-9aab-4769-90a9-93aa33900a57",
   "metadata": {},
   "outputs": [
    {
     "name": "stderr",
     "output_type": "stream",
     "text": [
      "/var/folders/8h/zkgpnzwj7f9d82wldp_d4h_w0000gs/T/ipykernel_79690/3074176551.py:1: DtypeWarning: Columns (28,29,30,31,32,34,35,36,37,39,40,41,42,43,44) have mixed types. Specify dtype option on import or set low_memory=False.\n",
      "  old = pd.read_csv('2024-10-01_matched_MN_meta.tsv', sep='\\t')\n"
     ]
    }
   ],
   "source": [
    "old = pd.read_csv('2024-10-01_matched_MN_meta.tsv', sep='\\t')\n",
    "new = pd.read_csv('2025_03_25_MN-Combined-Assigned-Metadata.csv')"
   ]
  },
  {
   "cell_type": "code",
   "execution_count": 13,
   "id": "09edc900-20c8-448f-b042-8f9bbb86487f",
   "metadata": {},
   "outputs": [
    {
     "name": "stdout",
     "output_type": "stream",
     "text": [
      "<class 'pandas.core.frame.DataFrame'>\n",
      "RangeIndex: 84142 entries, 0 to 84141\n",
      "Data columns (total 49 columns):\n",
      " #   Column                           Non-Null Count  Dtype  \n",
      "---  ------                           --------------  -----  \n",
      " 0   case_id                          84142 non-null  int64  \n",
      " 1   covid_mn_id                      84142 non-null  object \n",
      " 2   covid_virus_name                 84142 non-null  object \n",
      " 3   gisaid_id                        84106 non-null  object \n",
      " 4   genbank_id                       29971 non-null  object \n",
      " 5   ncbi_bioproject_id               9364 non-null   object \n",
      " 6   ncbi_biosample_id                9362 non-null   object \n",
      " 7   first_name                       0 non-null      float64\n",
      " 8   last_name                        0 non-null      float64\n",
      " 9   birth_date                       0 non-null      float64\n",
      " 10  specimen_date                    84142 non-null  object \n",
      " 11  census_block                     0 non-null      float64\n",
      " 12  census_tract                     0 non-null      float64\n",
      " 13  census_block_group               0 non-null      float64\n",
      " 14  latitude                         0 non-null      float64\n",
      " 15  longitude                        0 non-null      float64\n",
      " 16  adi_natrank                      84142 non-null  object \n",
      " 17  adi_staternk                     84142 non-null  object \n",
      " 18  county_lookup                    84132 non-null  object \n",
      " 19  zip                              84126 non-null  object \n",
      " 20  race                             84142 non-null  int64  \n",
      " 21  raceeth                          84142 non-null  int64  \n",
      " 22  hispanic                         84142 non-null  int64  \n",
      " 23  gender                           84135 non-null  object \n",
      " 24  time_since_vx                    84142 non-null  int64  \n",
      " 25  age_group                        84142 non-null  object \n",
      " 26  year                             84142 non-null  int64  \n",
      " 27  strain                           84142 non-null  object \n",
      " 28  Virus_name                       80614 non-null  object \n",
      " 29  Accession_ID                     80614 non-null  object \n",
      " 30  Collection_date                  80614 non-null  object \n",
      " 31  Location                         80614 non-null  object \n",
      " 32  Host                             80614 non-null  object \n",
      " 33  Additional_location_information  0 non-null      float64\n",
      " 34  Sampling_strategy                69263 non-null  object \n",
      " 35  Gender                           80614 non-null  object \n",
      " 36  Patient_age                      80614 non-null  object \n",
      " 37  Patient_status                   80614 non-null  object \n",
      " 38  Last_vaccinated                  0 non-null      float64\n",
      " 39  Passage                          80614 non-null  object \n",
      " 40  Specimen                         43179 non-null  object \n",
      " 41  Additional_host_information      32 non-null     object \n",
      " 42  Lineage                          80614 non-null  object \n",
      " 43  Clade                            80614 non-null  object \n",
      " 44  AA_Substitutions                 80614 non-null  object \n",
      " 45  accession                        17321 non-null  object \n",
      " 46  division                         17321 non-null  object \n",
      " 47  date                             17321 non-null  object \n",
      " 48  pango_lin                        17321 non-null  object \n",
      "dtypes: float64(10), int64(6), object(33)\n",
      "memory usage: 31.5+ MB\n"
     ]
    }
   ],
   "source": [
    "old.info()"
   ]
  },
  {
   "cell_type": "code",
   "execution_count": 21,
   "id": "cb229cc8-c10c-41fc-bda8-71db0285b086",
   "metadata": {},
   "outputs": [
    {
     "name": "stdout",
     "output_type": "stream",
     "text": [
      "<class 'pandas.core.frame.DataFrame'>\n",
      "RangeIndex: 94880 entries, 0 to 94879\n",
      "Data columns (total 23 columns):\n",
      " #   Column                                      Non-Null Count  Dtype  \n",
      "---  ------                                      --------------  -----  \n",
      " 0   case_id                                     94880 non-null  int64  \n",
      " 1   covid_virus_name                            94880 non-null  object \n",
      " 2   gisaid_id                                   84117 non-null  object \n",
      " 3   genbank_id                                  30590 non-null  object \n",
      " 4   specimen_date                               94880 non-null  object \n",
      " 5   adi_natrank                                 94880 non-null  object \n",
      " 6   adi_staternk                                94880 non-null  object \n",
      " 7   county_lookup                               94869 non-null  object \n",
      " 8   race                                        94879 non-null  float64\n",
      " 9   raceeth                                     94879 non-null  float64\n",
      " 10  hispanic                                    94879 non-null  float64\n",
      " 11  gender                                      94872 non-null  object \n",
      " 12  time_since                                  94879 non-null  float64\n",
      " 13  vbt_vax_count                               94879 non-null  float64\n",
      " 14  age_group                                   94879 non-null  object \n",
      " 15  Assigned_or_Unassigned_USDA_Classification  94880 non-null  object \n",
      " 16  Primary_RUCA_Code_2010                      94880 non-null  int64  \n",
      " 17  Secondary_RUCA_Code_2010                    94880 non-null  float64\n",
      " 18  Pop_Density_per_sq_mile_2010                94880 non-null  float64\n",
      " 19  Urban_or_Rural_USDA_Classification          94880 non-null  object \n",
      " 20  UrbanThreshold                              94880 non-null  float64\n",
      " 21  RuralThreshold                              94880 non-null  float64\n",
      " 22  Urban_or_Rural_Census_Classification        94880 non-null  object \n",
      "dtypes: float64(9), int64(2), object(12)\n",
      "memory usage: 16.6+ MB\n"
     ]
    }
   ],
   "source": [
    "new.info()"
   ]
  },
  {
   "cell_type": "code",
   "execution_count": 9,
   "id": "28f5aa89-3517-49e1-ba72-0f4c6fff9c1e",
   "metadata": {},
   "outputs": [
    {
     "data": {
      "text/plain": [
       "Index(['case_id', 'covid_mn_id', 'covid_virus_name', 'gisaid_id', 'genbank_id',\n",
       "       'ncbi_bioproject_id', 'ncbi_biosample_id', 'first_name', 'last_name',\n",
       "       'birth_date', 'specimen_date', 'census_block', 'census_tract',\n",
       "       'census_block_group', 'latitude', 'longitude', 'adi_natrank',\n",
       "       'adi_staternk', 'county_lookup', 'zip', 'race', 'raceeth', 'hispanic',\n",
       "       'gender', 'time_since_vx', 'age_group', 'year', 'strain', 'Virus_name',\n",
       "       'Accession_ID', 'Collection_date', 'Location', 'Host',\n",
       "       'Additional_location_information', 'Sampling_strategy', 'Gender',\n",
       "       'Patient_age', 'Patient_status', 'Last_vaccinated', 'Passage',\n",
       "       'Specimen', 'Additional_host_information', 'Lineage', 'Clade',\n",
       "       'AA_Substitutions', 'accession', 'division', 'date', 'pango_lin'],\n",
       "      dtype='object')"
      ]
     },
     "execution_count": 9,
     "metadata": {},
     "output_type": "execute_result"
    }
   ],
   "source": [
    "old.columns"
   ]
  },
  {
   "cell_type": "code",
   "execution_count": null,
   "id": "1e127a14-e65b-452d-92ca-8d5cc0a59d38",
   "metadata": {},
   "outputs": [],
   "source": [
    "columns_to_drop = ['ncbi_bioproject_id', 'ncbi_biosample_id', 'first_name', 'last_name',\n",
    "       'birth_date', 'census_block', 'census_tract',\n",
    "       'census_block_group', 'latitude', 'longitude', 'adi_natrank',\n",
    "       'adi_staternk', 'county_lookup', 'race', 'raceeth', 'hispanic',\n",
    "       'gender', 'time_since_vx', 'age_group', 'year', 'specimen_date']\n",
    "old_lesscol = old.drop(columns=columns_to_drop)\n",
    "old_lesscol"
   ]
  },
  {
   "cell_type": "code",
   "execution_count": 28,
   "id": "f1406326-b6e8-422a-ab90-0f9ebcd4a5d1",
   "metadata": {},
   "outputs": [
    {
     "data": {
      "text/plain": [
       "Index(['case_id', 'covid_mn_id', 'covid_virus_name', 'gisaid_id', 'genbank_id',\n",
       "       'zip', 'strain', 'Virus_name', 'Accession_ID', 'Collection_date',\n",
       "       'Location', 'Host', 'Additional_location_information',\n",
       "       'Sampling_strategy', 'Gender', 'Patient_age', 'Patient_status',\n",
       "       'Last_vaccinated', 'Passage', 'Specimen', 'Additional_host_information',\n",
       "       'Lineage', 'Clade', 'AA_Substitutions', 'accession', 'division', 'date',\n",
       "       'pango_lin'],\n",
       "      dtype='object')"
      ]
     },
     "execution_count": 28,
     "metadata": {},
     "output_type": "execute_result"
    }
   ],
   "source": [
    "old_lesscol.columns"
   ]
  },
  {
   "cell_type": "code",
   "execution_count": 29,
   "id": "b7bc1b97-40d4-486f-a9de-6eb6f1fb45ba",
   "metadata": {},
   "outputs": [
    {
     "data": {
      "text/plain": [
       "Index(['case_id', 'covid_virus_name', 'gisaid_id', 'genbank_id',\n",
       "       'specimen_date', 'adi_natrank', 'adi_staternk', 'county_lookup', 'race',\n",
       "       'raceeth', 'hispanic', 'gender', 'time_since', 'vbt_vax_count',\n",
       "       'age_group', 'Assigned_or_Unassigned_USDA_Classification',\n",
       "       'Primary_RUCA_Code_2010', 'Secondary_RUCA_Code_2010',\n",
       "       'Pop_Density_per_sq_mile_2010', 'Urban_or_Rural_USDA_Classification',\n",
       "       'UrbanThreshold', 'RuralThreshold',\n",
       "       'Urban_or_Rural_Census_Classification'],\n",
       "      dtype='object')"
      ]
     },
     "execution_count": 29,
     "metadata": {},
     "output_type": "execute_result"
    }
   ],
   "source": [
    "new.columns"
   ]
  },
  {
   "cell_type": "code",
   "execution_count": null,
   "id": "b4c534ec-a58e-498b-89bc-32735df3c863",
   "metadata": {},
   "outputs": [],
   "source": [
    "# merged_df = pd.merge(old_lesscol, new, on=['case_id', 'covid_virus_name', 'gisaid_id', 'genbank_id', 'specimen_date'], how='inner')\n",
    "merged_df = pd.merge(old_lesscol, new, on=['case_id', 'covid_virus_name', 'gisaid_id', 'genbank_id'], how='inner')\n",
    "\n",
    "print(merged_df)"
   ]
  },
  {
   "cell_type": "code",
   "execution_count": 35,
   "id": "fbe344de-10df-4c00-8edf-f42ef9ab3a6f",
   "metadata": {},
   "outputs": [
    {
     "data": {
      "text/plain": [
       "Index(['case_id', 'covid_mn_id', 'covid_virus_name', 'gisaid_id', 'genbank_id',\n",
       "       'zip', 'strain', 'Virus_name', 'Accession_ID', 'Collection_date',\n",
       "       'Location', 'Host', 'Additional_location_information',\n",
       "       'Sampling_strategy', 'Gender', 'Patient_age', 'Patient_status',\n",
       "       'Last_vaccinated', 'Passage', 'Specimen', 'Additional_host_information',\n",
       "       'Lineage', 'Clade', 'AA_Substitutions', 'accession', 'division', 'date',\n",
       "       'pango_lin', 'specimen_date', 'adi_natrank', 'adi_staternk',\n",
       "       'county_lookup', 'race', 'raceeth', 'hispanic', 'gender', 'time_since',\n",
       "       'vbt_vax_count', 'age_group',\n",
       "       'Assigned_or_Unassigned_USDA_Classification', 'Primary_RUCA_Code_2010',\n",
       "       'Secondary_RUCA_Code_2010', 'Pop_Density_per_sq_mile_2010',\n",
       "       'Urban_or_Rural_USDA_Classification', 'UrbanThreshold',\n",
       "       'RuralThreshold', 'Urban_or_Rural_Census_Classification'],\n",
       "      dtype='object')"
      ]
     },
     "execution_count": 35,
     "metadata": {},
     "output_type": "execute_result"
    }
   ],
   "source": [
    "merged_df.columns"
   ]
  },
  {
   "cell_type": "code",
   "execution_count": null,
   "id": "1efecccb-ebe1-462c-a7db-15cf2244a7fa",
   "metadata": {},
   "outputs": [],
   "source": [
    "columns_to_drop = ['Gender', 'Patient_age', 'Patient_status','Additional_host_information', \n",
    "                   'Specimen', 'Additional_location_information','Last_vaccinated']\n",
    "merged_df = merged_df.drop(columns=columns_to_drop)\n",
    "merged_df"
   ]
  },
  {
   "cell_type": "code",
   "execution_count": 37,
   "id": "107520f3-23e3-4751-89e6-6be566d400d8",
   "metadata": {},
   "outputs": [],
   "source": [
    "merged_df.to_csv('2025_03_26_matched_MN_meta.tsv', sep='\\t', index=False)"
   ]
  },
  {
   "cell_type": "code",
   "execution_count": 39,
   "id": "5b182074-f7f2-4418-bea5-409c579046fa",
   "metadata": {},
   "outputs": [],
   "source": [
    "mcleod = merged_df[merged_df['county_lookup'] == 'McLeod County']\n",
    "mcleod.to_csv('2025_03_26_mcleod_meta.tsv', sep='\\t', index=False)"
   ]
  }
 ],
 "metadata": {
  "kernelspec": {
   "display_name": "Python 3 (ipykernel)",
   "language": "python",
   "name": "python3"
  },
  "language_info": {
   "codemirror_mode": {
    "name": "ipython",
    "version": 3
   },
   "file_extension": ".py",
   "mimetype": "text/x-python",
   "name": "python",
   "nbconvert_exporter": "python",
   "pygments_lexer": "ipython3",
   "version": "3.12.2"
  }
 },
 "nbformat": 4,
 "nbformat_minor": 5
}
