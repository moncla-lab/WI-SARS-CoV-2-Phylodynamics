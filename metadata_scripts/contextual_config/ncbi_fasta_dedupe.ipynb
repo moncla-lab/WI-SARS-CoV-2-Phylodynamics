{
 "cells": [
  {
   "cell_type": "code",
   "execution_count": 4,
   "id": "bad4b744-85bc-4221-a6ef-b6ec6b543530",
   "metadata": {},
   "outputs": [
    {
     "ename": "IndexError",
     "evalue": "list index out of range",
     "output_type": "error",
     "traceback": [
      "\u001b[0;31m---------------------------------------------------------------------------\u001b[0m",
      "\u001b[0;31mIndexError\u001b[0m                                Traceback (most recent call last)",
      "Cell \u001b[0;32mIn[4], line 15\u001b[0m\n\u001b[1;32m     12\u001b[0m \u001b[38;5;28;01mfor\u001b[39;00m record \u001b[38;5;129;01min\u001b[39;00m SeqIO\u001b[38;5;241m.\u001b[39mparse(input_fasta, \u001b[38;5;124m\"\u001b[39m\u001b[38;5;124mfasta\u001b[39m\u001b[38;5;124m\"\u001b[39m):\n\u001b[1;32m     13\u001b[0m     \u001b[38;5;66;03m# Split the header to extract strain name (Assuming strain name is at index 2)\u001b[39;00m\n\u001b[1;32m     14\u001b[0m     header_parts \u001b[38;5;241m=\u001b[39m record\u001b[38;5;241m.\u001b[39mdescription\u001b[38;5;241m.\u001b[39msplit(\u001b[38;5;124m'\u001b[39m\u001b[38;5;124m|\u001b[39m\u001b[38;5;124m'\u001b[39m)\n\u001b[0;32m---> 15\u001b[0m     strain_name \u001b[38;5;241m=\u001b[39m \u001b[43mheader_parts\u001b[49m\u001b[43m[\u001b[49m\u001b[38;5;241;43m2\u001b[39;49m\u001b[43m]\u001b[49m\n\u001b[1;32m     17\u001b[0m     \u001b[38;5;28;01mif\u001b[39;00m strain_name \u001b[38;5;129;01mnot\u001b[39;00m \u001b[38;5;129;01min\u001b[39;00m unique_strains:\n\u001b[1;32m     18\u001b[0m         unique_strains[strain_name] \u001b[38;5;241m=\u001b[39m record\n",
      "\u001b[0;31mIndexError\u001b[0m: list index out of range"
     ]
    }
   ],
   "source": [
    "from Bio import SeqIO\n",
    "\n",
    "# File paths\n",
    "input_fasta = \"more_dt_context/seqs_all_dt_ctxt.fasta\"\n",
    "output_fasta = \"more_dt_context/seqs_all_dt_ctxt_deduped.fasta\"\n",
    "\n",
    "# Dictionary to store unique strain names\n",
    "unique_strains = {}\n",
    "\n",
    "# Parse the input fasta file and store only unique strain sequences, this is when there is multiple bits of metadata in the header\n",
    "with open(output_fasta, \"w\") as output_handle:\n",
    "    for record in SeqIO.parse(input_fasta, \"fasta\"):\n",
    "        # Split the header to extract strain name (Assuming strain name is at index 2)\n",
    "        header_parts = record.description.split('|')\n",
    "        strain_name = header_parts[2]\n",
    "        \n",
    "        if strain_name not in unique_strains:\n",
    "            unique_strains[strain_name] = record\n",
    "            SeqIO.write(record, output_handle, \"fasta\")\n",
    "\n",
    "print(f\"Unique sequences have been written to {output_fasta}\")\n"
   ]
  },
  {
   "cell_type": "code",
   "execution_count": 5,
   "id": "b760c439-006b-4def-a3d8-aee86dbbdd56",
   "metadata": {},
   "outputs": [
    {
     "name": "stdout",
     "output_type": "stream",
     "text": [
      "Unique sequences have been written to more_dt_context/seqs_all_dt_ctxt_deduped.fasta\n"
     ]
    }
   ],
   "source": [
    "##now when headers are just strain names\n",
    "from Bio import SeqIO\n",
    "\n",
    "# File paths\n",
    "input_fasta = \"more_dt_context/seqs_all_dt_ctxt.fasta\"\n",
    "output_fasta = \"more_dt_context/seqs_all_dt_ctxt_deduped.fasta\"\n",
    "\n",
    "# Dictionary to store unique strain names\n",
    "unique_strains = {}\n",
    "\n",
    "# Parse the input FASTA file and store only unique strain sequences\n",
    "with open(output_fasta, \"w\") as output_handle:\n",
    "    for record in SeqIO.parse(input_fasta, \"fasta\"):\n",
    "        strain_name = record.id  # Since headers are just strain names now\n",
    "\n",
    "        if strain_name not in unique_strains:\n",
    "            unique_strains[strain_name] = record\n",
    "            SeqIO.write(record, output_handle, \"fasta\")\n",
    "\n",
    "print(f\"Unique sequences have been written to {output_fasta}\")\n"
   ]
  }
 ],
 "metadata": {
  "kernelspec": {
   "display_name": "Python 3 (ipykernel)",
   "language": "python",
   "name": "python3"
  },
  "language_info": {
   "codemirror_mode": {
    "name": "ipython",
    "version": 3
   },
   "file_extension": ".py",
   "mimetype": "text/x-python",
   "name": "python",
   "nbconvert_exporter": "python",
   "pygments_lexer": "ipython3",
   "version": "3.12.2"
  }
 },
 "nbformat": 4,
 "nbformat_minor": 5
}
