{
 "cells": [
  {
   "cell_type": "code",
   "execution_count": 1,
   "id": "751fed24",
   "metadata": {},
   "outputs": [],
   "source": [
    "from datetime import datetime\n",
    "import pandas as pd\n",
    "import numpy as np\n",
    "from dateutil.relativedelta import relativedelta\n",
    "import plotly as py\n",
    "from plotly import graph_objs as go\n",
    "import plotly.express as px\n",
    "import matplotlib.pyplot as plt\n",
    "from matplotlib.ticker import StrMethodFormatter"
   ]
  },
  {
   "cell_type": "code",
   "execution_count": 2,
   "id": "f4e2f964",
   "metadata": {},
   "outputs": [
    {
     "name": "stdout",
     "output_type": "stream",
     "text": [
      "<class 'pandas.core.frame.DataFrame'>\n",
      "RangeIndex: 22643 entries, 0 to 22642\n",
      "Data columns (total 68 columns):\n",
      " #   Column                           Non-Null Count  Dtype  \n",
      "---  ------                           --------------  -----  \n",
      " 0   Unnamed: 0                       22643 non-null  int64  \n",
      " 1   GISAID_Name                      22643 non-null  object \n",
      " 2   SampleID                         22643 non-null  object \n",
      " 3   WEDSS_DOC                        22643 non-null  object \n",
      " 4   WSLH_DOC                         7757 non-null   object \n",
      " 5   MHDL_DOC                         5532 non-null   object \n",
      " 6   CDC_DOC                          455 non-null    object \n",
      " 7   AVRL_DOC                         8899 non-null   object \n",
      " 8   ClientID                         22643 non-null  int64  \n",
      " 9   Age                              22643 non-null  int64  \n",
      " 10  Gender.x                         22627 non-null  object \n",
      " 11  Race                             22611 non-null  object \n",
      " 12  Ethnicity                        22607 non-null  object \n",
      " 13  ZipCode                          22579 non-null  object \n",
      " 14  CountyFIPS                       22101 non-null  float64\n",
      " 15  CensusTract                      22068 non-null  float64\n",
      " 16  CensusBlock                      22088 non-null  float64\n",
      " 17  IntTravel                        4924 non-null   object \n",
      " 18  VacDate1                         8040 non-null   object \n",
      " 19  VacType1                         8007 non-null   object \n",
      " 20  VacDate2                         7200 non-null   object \n",
      " 21  VacType2                         7178 non-null   object \n",
      " 22  VacDate3                         3155 non-null   object \n",
      " 23  VacType3                         3151 non-null   object \n",
      " 24  VacDate4                         550 non-null    object \n",
      " 25  VacType4                         550 non-null    object \n",
      " 26  VacDate5                         101 non-null    object \n",
      " 27  VacType5                         101 non-null    object \n",
      " 28  VacDate6                         3 non-null      object \n",
      " 29  VacType6                         3 non-null      object \n",
      " 30  SpecCollectedDate1               22622 non-null  object \n",
      " 31  SpecCollectedDate2               6424 non-null   object \n",
      " 32  SpecCollectedDate3               1654 non-null   object \n",
      " 33  SpecCollectedDate4               475 non-null    object \n",
      " 34  SpecCollectedDate5               153 non-null    object \n",
      " 35  SpecCollectedDate6               60 non-null     object \n",
      " 36  SpecCollectedDate7               25 non-null     object \n",
      " 37  SpecCollectedDate8               13 non-null     object \n",
      " 38  SpecCollectedDate9               12 non-null     object \n",
      " 39  SpecCollectedDate10              10 non-null     object \n",
      " 40  SpecCollectedDate11              10 non-null     object \n",
      " 41  SpecCollectedDate12              9 non-null      object \n",
      " 42  SpecCollectedDate13              6 non-null      object \n",
      " 43  SpecCollectedDate14              1 non-null      object \n",
      " 44  SpecCollectedDate15              1 non-null      object \n",
      " 45  SpecCollectedDate16              1 non-null      object \n",
      " 46  SpecCollectedDate17              1 non-null      object \n",
      " 47  SpecCollectedDate18              1 non-null      object \n",
      " 48  SpecCollectedDate19              1 non-null      object \n",
      " 49  GISAID_accession                 6269 non-null   object \n",
      " 50  NCBI_accession                   6660 non-null   object \n",
      " 51  Accession.ID                     22643 non-null  object \n",
      " 52  Collection.date                  22643 non-null  object \n",
      " 53  Location                         22643 non-null  object \n",
      " 54  Host                             22643 non-null  object \n",
      " 55  Additional.location.information  91 non-null     object \n",
      " 56  Sampling.strategy                3931 non-null   object \n",
      " 57  Gender.y                         22643 non-null  object \n",
      " 58  Patient.age                      22643 non-null  object \n",
      " 59  Patient.status                   22643 non-null  object \n",
      " 60  Last.vaccinated                  1091 non-null   object \n",
      " 61  Passage                          22643 non-null  object \n",
      " 62  Specimen                         9353 non-null   object \n",
      " 63  Additional.host.information      0 non-null      float64\n",
      " 64  Sampling.strategy.1              3931 non-null   object \n",
      " 65  Lineage                          22643 non-null  object \n",
      " 66  Clade                            22641 non-null  object \n",
      " 67  AA.Substitutions                 22643 non-null  object \n",
      "dtypes: float64(4), int64(3), object(61)\n",
      "memory usage: 11.7+ MB\n"
     ]
    },
    {
     "name": "stderr",
     "output_type": "stream",
     "text": [
      "/var/folders/jt/pw4h3n2n3rz8mxjkqn3d57x00000gr/T/ipykernel_50754/1343519819.py:1: DtypeWarning: Columns (4,5,6,7,13,28,29,37,38,39,40,41,42,43,44,45,46,47,48,49,50,55,60,62) have mixed types. Specify dtype option on import or set low_memory=False.\n",
      "  data = pd.read_csv('2024-01-29_dhs_gisaid_merge_LD.csv')\n"
     ]
    }
   ],
   "source": [
    "data = pd.read_csv('2024-01-29_dhs_gisaid_merge_LD.csv')\n",
    "data.info()"
   ]
  },
  {
   "cell_type": "code",
   "execution_count": null,
   "id": "5d92f26d",
   "metadata": {},
   "outputs": [],
   "source": [
    "#some dupe entries =, ~200ish\n",
    "data = data.drop_duplicates(subset=['SampleID', 'ClientID'])\n",
    "data.info()"
   ]
  },
  {
   "cell_type": "code",
   "execution_count": null,
   "id": "4fab10a9",
   "metadata": {},
   "outputs": [],
   "source": [
    "\n",
    "# Convert multiple date columns to datetime objects\n",
    "date_cols = ['WEDSS_DOC', 'VacDate1', 'VacDate2', 'VacDate3','VacDate4','VacDate5','VacDate6']\n",
    "data[date_cols] = data[date_cols].apply(pd.to_datetime, errors='coerce')\n",
    "\n",
    "# Format date columns in specific format '%Y-%m-%d'\n",
    "data[date_cols] = data[date_cols].apply(lambda x: x.dt.strftime('%Y-%m-%d'))\n",
    "\n",
    "sub_data =(data[date_cols])\n",
    "sub_data\n",
    "#temp_df.info()"
   ]
  },
  {
   "cell_type": "code",
   "execution_count": null,
   "id": "7a7754bd",
   "metadata": {},
   "outputs": [],
   "source": [
    "#loop to remove irrelevant vax dates that are after sample (vaxdates that are after WEDSS_DOC)\n",
    "for col in date_cols[1:]:\n",
    "    sub_data.loc[sub_data['WEDSS_DOC'] < sub_data[col], col] = pd.NaT\n",
    "\n",
    "sub_data\n",
    "#temp_df.head(50)\n",
    "#temp_df['VacDate4'].unique()"
   ]
  },
  {
   "cell_type": "code",
   "execution_count": null,
   "id": "8a1cd6d8",
   "metadata": {},
   "outputs": [],
   "source": [
    "#find most recent date in each row and put it in a new column \"most_recent\"\n",
    "for index, row in sub_data.iterrows():\n",
    "    valid_dates = [date for date in row[1:] if not (pd.isnull(date) or date == pd.NaT)]\n",
    "    if valid_dates:\n",
    "        sub_data.loc[index, 'most_recent'] = max(valid_dates)\n",
    "    else:\n",
    "        sub_data.loc[index, 'most_recent'] = np.nan\n",
    "\n",
    "sub_data.head(50)\n",
    "#temp_df.head(25)"
   ]
  },
  {
   "cell_type": "code",
   "execution_count": null,
   "id": "499de061",
   "metadata": {
    "scrolled": false
   },
   "outputs": [],
   "source": [
    "#now making a comparison function, first have to deal with NaN values, then do comparison for actual dates\n",
    "#combine years and months comparisons to get total in months, apply this result to new 'diff' column\n",
    "\n",
    "sub_data['WEDSS_DOC'] = pd.to_datetime(sub_data['WEDSS_DOC'])\n",
    "sub_data['most_recent'] = pd.to_datetime(sub_data['most_recent'])\n",
    "\n",
    "# Calculate the difference in months between 'start' and 'end' and store it in a new column 'res'\n",
    "def calculate_month_difference(row):\n",
    "    if pd.isnull(row['WEDSS_DOC']) or pd.isnull(row['most_recent']):\n",
    "        return np.nan\n",
    "    else:\n",
    "        return (row['WEDSS_DOC'].year - row['most_recent'].year) * 12 + (row['WEDSS_DOC'].month - row['most_recent'].month)\n",
    "\n",
    "sub_data['diff'] = sub_data.apply(calculate_month_difference, axis=1)\n",
    "\n",
    "sub_data.head(25)\n",
    "#temp_df.head(25)"
   ]
  },
  {
   "cell_type": "code",
   "execution_count": null,
   "id": "69517498",
   "metadata": {},
   "outputs": [],
   "source": [
    "#now deteriming if more than 6mos since most recent vax and adding that result to new column\n",
    "\n",
    "sub_data['more_than_6mos'] = np.where(sub_data['diff'] > 6, True,\n",
    "                                     np.where(sub_data['diff'] <= 6, False, np.nan))\n",
    "sub_data.head(25)\n",
    "#temp_df.head(25)"
   ]
  },
  {
   "cell_type": "code",
   "execution_count": null,
   "id": "c4857413",
   "metadata": {},
   "outputs": [],
   "source": [
    "#creating a column for count of # of vaccinations\n",
    "\n",
    "vax_cols = [1, 2, 3, 4, 5, 6]  #column index positions\n",
    "\n",
    "# Calculate the count of non-null values across specific columns by index positions and store the sum in a new 'count' column\n",
    "sub_data['vax_count'] = sub_data.iloc[:, vax_cols].count(axis=1)\n",
    "\n",
    "sub_data.head(25)\n",
    "#temp_df.head(50)"
   ]
  },
  {
   "cell_type": "code",
   "execution_count": null,
   "id": "d698c314",
   "metadata": {},
   "outputs": [],
   "source": [
    "counts= sub_data['vax_count'].value_counts()\n",
    "print(counts)"
   ]
  },
  {
   "cell_type": "code",
   "execution_count": null,
   "id": "315c7f6c",
   "metadata": {},
   "outputs": [],
   "source": [
    "sub_data['1dose_or_more'] = np.where(sub_data['vax_count'] > 0, True, False)\n",
    "sub_data.head(25)\n"
   ]
  },
  {
   "cell_type": "code",
   "execution_count": null,
   "id": "ddcffe4e",
   "metadata": {},
   "outputs": [],
   "source": [
    "#merging the newly made columns onto the full dataframe by index position that should not have changed\n",
    "\n",
    "data1 = pd.merge(data, sub_data[['most_recent','diff','more_than_6mos', 'vax_count', '1dose_or_more']], \n",
    "                 left_index=True, right_index=True)\n",
    "\n",
    "data1.info()"
   ]
  },
  {
   "cell_type": "code",
   "execution_count": null,
   "id": "53fd087f",
   "metadata": {},
   "outputs": [],
   "source": [
    "#dropping a bunch of spec_collected_date columns that aren't needed and make df unwieldy\n",
    "\n",
    "cols = [30, 31, 32, 33, 34 ,35, 36, 37, 38, 39, 40, 41, 42, 43, 44, 45, 46, 47, 48, 64]\n",
    "data1.drop(data1.columns[cols],axis=1,inplace=True)\n",
    "data1.info()\n",
    "data1.head(25)"
   ]
  },
  {
   "cell_type": "code",
   "execution_count": null,
   "id": "de0adb65",
   "metadata": {},
   "outputs": [],
   "source": [
    "#reading in FIPS county spreadsheet and merging it onto df, exporting this new updaded file\n",
    "\n",
    "county = pd.read_csv('county_FIPS.tsv', sep='\\t')\n",
    "data2 = pd.merge(data1, county, how='left', on='CountyFIPS')\n",
    "data2.head(25)\n",
    "data2.info()\n",
    "data2.to_csv('2024-01-30_meta_AJ-columns-added.csv')"
   ]
  },
  {
   "cell_type": "code",
   "execution_count": null,
   "id": "362c14b8",
   "metadata": {},
   "outputs": [],
   "source": [
    "#making a data subset for dane county only for some visualizations looking at vax rates in Dane\n",
    "\n",
    "data_dane = data2[data2['CountyFIPS'] == 55025]\n",
    "print(len(data_dane))\n",
    "\n",
    "data_dane.info()\n",
    "data_dane.head(25)"
   ]
  },
  {
   "cell_type": "code",
   "execution_count": null,
   "id": "4d216f98",
   "metadata": {},
   "outputs": [],
   "source": [
    "#format date column to date object and then sort by dates so we can see vax rates over time\n",
    "\n",
    "data_dane['WEDSS_DOC'] = pd.to_datetime(data_dane['WEDSS_DOC'])\n",
    "data_dane = data_dane.sort_values(by='WEDSS_DOC')\n"
   ]
  },
  {
   "cell_type": "code",
   "execution_count": null,
   "id": "c4521646",
   "metadata": {},
   "outputs": [],
   "source": [
    "# Group by 'date' and calculate the cumulative percentage of True values, where there is 1 vax dose\n",
    "grouped_df = data_dane.groupby('WEDSS_DOC')['1dose_or_more'].agg(['sum', 'count'])\n",
    "grouped_df['Vax_Rate_1dose'] = (grouped_df['sum'].cumsum() / grouped_df['count'].cumsum())*100\n",
    "\n",
    "# Reset the index for a cleaner dataframe\n",
    "grouped_df = grouped_df.reset_index()\n",
    "\n",
    "# Display the resulting grouped dataframe\n",
    "print(grouped_df)\n",
    "\n"
   ]
  },
  {
   "cell_type": "code",
   "execution_count": null,
   "id": "80880df8",
   "metadata": {},
   "outputs": [],
   "source": [
    "#visualizing vax rates over time with this cumulative vax dataframe\n",
    "\n",
    "grouped_df['WEDSS_DOC'] = pd.to_datetime(grouped_df['WEDSS_DOC'])\n",
    "\n",
    "fig = px.line(grouped_df, x='WEDSS_DOC', y='Vax_Rate_1dose',\n",
    "              title='Vaccination Rate in Dane County, 1+ dose')\n",
    "\n",
    "fig.update_xaxes(\n",
    "    dtick=\"M1\",\n",
    "    tickformat=\"%b\\n%Y\")\n",
    "fig.show()"
   ]
  },
  {
   "cell_type": "code",
   "execution_count": null,
   "id": "11cd8add",
   "metadata": {},
   "outputs": [],
   "source": [
    "#repeat for MKE county\n",
    "data_mke = data2[data2['CountyFIPS'] == 55079]\n"
   ]
  },
  {
   "cell_type": "code",
   "execution_count": null,
   "id": "20797cdd",
   "metadata": {},
   "outputs": [],
   "source": [
    "data_mke['WEDSS_DOC'] = pd.to_datetime(data_mke['WEDSS_DOC'])\n",
    "data_mke = data_mke.sort_values(by='WEDSS_DOC')\n"
   ]
  },
  {
   "cell_type": "code",
   "execution_count": null,
   "id": "c6066564",
   "metadata": {},
   "outputs": [],
   "source": [
    "# Group by 'date' and calculate the cumulative percentage of True values, where there is 1 vax dose\n",
    "grouped_df2 = data_mke.groupby('WEDSS_DOC')['1dose_or_more'].agg(['sum', 'count'])\n",
    "grouped_df2['Vax_Rate_1dose'] = (grouped_df2['sum'].cumsum() / grouped_df2['count'].cumsum())*100\n",
    "\n",
    "# Reset the index for a cleaner dataframe\n",
    "grouped_df2 = grouped_df2.reset_index()\n",
    "\n",
    "# Display the resulting grouped dataframe\n",
    "print(grouped_df2)\n"
   ]
  },
  {
   "cell_type": "code",
   "execution_count": null,
   "id": "1aab8780",
   "metadata": {},
   "outputs": [],
   "source": [
    "grouped_df2['WEDSS_DOC'] = pd.to_datetime(grouped_df2['WEDSS_DOC'])\n",
    "\n",
    "fig2 = px.line(grouped_df2, x='WEDSS_DOC', y='Vax_Rate_1dose',\n",
    "              title='Vaccination Rate in Milwaukee County, 1+ dose')\n",
    "\n",
    "#fig.add_trace(go.Scatter(x = grouped_df['WEDSS_DOC'], y = grouped_df['cumulative_percentage'], name = 'MKE'))\n",
    "\n",
    "\n",
    "fig2.update_xaxes(\n",
    "    dtick=\"M1\",\n",
    "    tickformat=\"%b\\n%Y\")\n",
    "fig2.show()"
   ]
  },
  {
   "cell_type": "code",
   "execution_count": null,
   "id": "eb8e7e51",
   "metadata": {},
   "outputs": [],
   "source": [
    "#now doing the same with the vax rate data from CDC so we can compare to our data\n",
    "\n",
    "wi_vax = pd.read_csv('WI_covid_vax_stats.tsv', sep ='\\t')\n",
    "wi_vax['Date'] = pd.to_datetime(wi_vax['Date']).dt.strftime('%Y-%m-%d')\n",
    "wi_vax"
   ]
  },
  {
   "cell_type": "code",
   "execution_count": null,
   "id": "3869b64d",
   "metadata": {},
   "outputs": [],
   "source": [
    "dane_vax = wi_vax.loc[wi_vax['FIPS'] == '55025']\n",
    "dane_vax = dane_vax.rename(columns={'Administered_Dose1_Pop_Pct': 'Vax_Rate_1dose'})\n",
    "dane_vax"
   ]
  },
  {
   "cell_type": "code",
   "execution_count": null,
   "id": "f3b2afa2",
   "metadata": {},
   "outputs": [],
   "source": [
    "mke_vax = wi_vax.loc[wi_vax['FIPS'] == '55079']\n",
    "mke_vax = mke_vax.rename(columns={'Administered_Dose1_Pop_Pct': 'Vax_Rate_1dose'})\n",
    "mke_vax"
   ]
  },
  {
   "cell_type": "code",
   "execution_count": null,
   "id": "16283c89",
   "metadata": {},
   "outputs": [],
   "source": [
    "\n",
    "fig3 = px.line(dane_vax, x=\"Date\", y='Vax_Rate_1dose',\n",
    "              hover_data={\"Date\": \"|%B %d, %Y\"},\n",
    "              title='Vaccination Rate in Dane County, 1+ dose')\n",
    "fig3.update_xaxes(\n",
    "    dtick=\"M1\",\n",
    "    tickformat=\"%b\\n%Y\")\n",
    "fig3.show()"
   ]
  },
  {
   "cell_type": "code",
   "execution_count": null,
   "id": "76f4ec70",
   "metadata": {},
   "outputs": [],
   "source": [
    "# Create traces for each dataframe\n",
    "trace1 = go.Scatter(x=dane_vax['Date'], y=dane_vax['Vax_Rate_1dose'], mode='lines', name='vax_stats, Dane')\n",
    "trace2 = go.Scatter(x=grouped_df['WEDSS_DOC'], y=grouped_df['Vax_Rate_1dose'], mode='lines', name='dataset, Dane')\n",
    "\n",
    "# Create the layout for the plot\n",
    "layout = go.Layout(title='Vaccination Rate in Dane County, 1+ dose',\n",
    "                   xaxis=dict(title='Date'),\n",
    "                   yaxis=dict(title='Percent Vaccinated (%)'))\n",
    "\n",
    "# Combine traces into a list\n",
    "fig_data = [trace1, trace2]\n",
    "\n",
    "# Create the figure\n",
    "fig_dane = go.Figure(data=fig_data, layout=layout)\n",
    "\n",
    "# Show the figure\n",
    "fig_dane.show()\n",
    "\n",
    "fig_dane.write_html(\"data_summary_figs/2024-01-16_dane_vax_stats.html\")\n"
   ]
  },
  {
   "cell_type": "code",
   "execution_count": null,
   "id": "ccea09d9",
   "metadata": {},
   "outputs": [],
   "source": [
    "# Create traces for each dataframe\n",
    "trace1 = go.Scatter(x=dane_vax['Date'], y=dane_vax['Vax_Rate_1dose'], mode='lines', name='vax_stats, Dane')\n",
    "trace3 = go.Scatter(x=grouped_df['WEDSS_DOC'], y=grouped_df['Vax_Rate_1dose'], mode='lines', name='dataset, Dane')\n",
    "trace4 = go.Scatter(x=grouped_df2['WEDSS_DOC'], y=grouped_df2['Vax_Rate_1dose'], mode= 'lines', name='dataset, MKE')\n",
    "trace2 = go.Scatter(x=mke_vax['Date'], y=mke_vax['Vax_Rate_1dose'], mode= 'lines', name='vax_stats, MKE')\n",
    "\n",
    "\n",
    "# Create the layout for the plot\n",
    "layout = go.Layout(title='Vaccination Rate in Dane and Milwaukee County, 1+ dose',\n",
    "                   xaxis=dict(title='Date'),\n",
    "                   yaxis=dict(title='Percent Vaccinated (%)'))\n",
    "\n",
    "# Combine traces into a list\n",
    "fig_data2 = [trace1, trace2, trace3, trace4]\n",
    "\n",
    "# Create the figure\n",
    "fig_WI = go.Figure(data=fig_data2, layout=layout)\n",
    "\n",
    "# Show the figure\n",
    "fig_WI.show()"
   ]
  },
  {
   "cell_type": "code",
   "execution_count": null,
   "id": "c37c12f0",
   "metadata": {},
   "outputs": [],
   "source": [
    "#seq count over time by county\n",
    "fig4 = px.histogram(data2, x='WEDSS_DOC', nbins=43, title='Sequence data over time', color ='County')\n",
    "fig4.update_xaxes(showgrid=True, ticklabelmode=\"period\", dtick=\"M3\", tickformat=\"%b\\n%Y\")\n",
    "\n",
    "fig4.show()\n",
    "fig4.write_html(\"data_summary_figs/2024-01-17_seqs_by_county.html\")\n"
   ]
  },
  {
   "cell_type": "code",
   "execution_count": null,
   "id": "9f18456e",
   "metadata": {},
   "outputs": [],
   "source": [
    "#histogram of samples by # of vaccines, can isolate each count's data by double click on legend\n",
    "fig5 = px.histogram(data2, x='WEDSS_DOC', nbins=43, title='Sequence data over time by vax status', color ='vax_count')\n",
    "fig5.update_xaxes(showgrid=True, ticklabelmode=\"period\", dtick=\"M3\", tickformat=\"%b\\n%Y\")\n",
    "\n",
    "fig5.show()"
   ]
  },
  {
   "cell_type": "code",
   "execution_count": null,
   "id": "bdc62df9",
   "metadata": {},
   "outputs": [],
   "source": [
    "#histogram of samples over time \n",
    "fig6 = px.histogram(data2, x='WEDSS_DOC', nbins=43, title='Sequence data over time', color ='Gender.x')\n",
    "fig6.update_xaxes(showgrid=True, ticklabelmode=\"period\", dtick=\"M3\", tickformat=\"%b\\n%Y\")\n",
    "\n",
    "fig6.show()"
   ]
  },
  {
   "cell_type": "code",
   "execution_count": null,
   "id": "d8ed189f",
   "metadata": {},
   "outputs": [],
   "source": [
    "#histogram of samples by # of vaccines, can isolate each count's data by double click on legend\n",
    "fig6 = px.histogram(data2, x='WEDSS_DOC', nbins=50, title='Sequence data by clade', color ='Clade')\n",
    "fig6.update_xaxes(showgrid=True, ticklabelmode=\"period\", dtick=\"M3\", tickformat=\"%b\\n%Y\")\n",
    "\n",
    "fig6.show()"
   ]
  }
 ],
 "metadata": {
  "kernelspec": {
   "display_name": "Python 3 (ipykernel)",
   "language": "python",
   "name": "python3"
  },
  "language_info": {
   "codemirror_mode": {
    "name": "ipython",
    "version": 3
   },
   "file_extension": ".py",
   "mimetype": "text/x-python",
   "name": "python",
   "nbconvert_exporter": "python",
   "pygments_lexer": "ipython3",
   "version": "3.11.5"
  }
 },
 "nbformat": 4,
 "nbformat_minor": 5
}
